{
 "cells": [
  {
   "cell_type": "code",
   "execution_count": null,
   "metadata": {},
   "outputs": [],
   "source": []
  },
  {
   "cell_type": "code",
   "execution_count": null,
   "metadata": {},
   "outputs": [],
   "source": []
  },
  {
   "cell_type": "markdown",
   "metadata": {},
   "source": [
    "# Big Data Analytics\n",
    "\n",
    "## add names here:\n",
    "\n",
    "\n",
    "\n",
    "\n",
    "### The aim of this project is to use the IMDB Dataset: (Link) and use data such as actors, director, genre, isAdult and runtime to predict how well a movie will perform. We use the boxoffice and userrating as measures of performance. We will train our model with 80% of the data and test it on the remaining 20%. We will also give our predicitons for upcoming movies that do not have any ratings/boxoffice yet.\n",
    "\n",
    "### Our hypothesis is that actors & director will positively influence the performance while the variable runtime will negatively influence it. \n",
    "\n"
   ]
  },
  {
   "cell_type": "code",
   "execution_count": 1,
   "metadata": {},
   "outputs": [],
   "source": [
    "import pandas as pd\n",
    "import numpy as np\n",
    "import matplotlib.pyplot as plt\n",
    "import seaborn as sns\n",
    "import time\n",
    "from sklearn.linear_model import Ridge,LinearRegression,Lasso\n",
    "from sklearn.neural_network import MLPRegressor\n",
    "from sklearn.decomposition import PCA\n",
    "from sklearn.preprocessing import PolynomialFeatures\n",
    "%matplotlib inline\n",
    "\n"
   ]
  },
  {
   "cell_type": "markdown",
   "metadata": {},
   "source": [
    "# Load Data and Preprocessing"
   ]
  },
  {
   "cell_type": "markdown",
   "metadata": {},
   "source": [
    "## title basics "
   ]
  },
  {
   "cell_type": "code",
   "execution_count": 2,
   "metadata": {},
   "outputs": [
    {
     "output_type": "stream",
     "name": "stderr",
     "text": [
      "/home/flo/anaconda3/envs/datascience/lib/python3.8/site-packages/IPython/core/interactiveshell.py:3165: DtypeWarning: Columns (4,5) have mixed types.Specify dtype option on import or set low_memory=False.\n  has_raised = await self.run_ast_nodes(code_ast.body, cell_name,\n"
     ]
    },
    {
     "output_type": "execute_result",
     "data": {
      "text/plain": [
       "           tconst titleType  \\\n",
       "0       tt0011216     movie   \n",
       "1       tt0016906     movie   \n",
       "2       tt0019996     movie   \n",
       "3       tt0035423     movie   \n",
       "4       tt0036177     movie   \n",
       "...           ...       ...   \n",
       "189856  tt9916362     movie   \n",
       "189857  tt9916538     movie   \n",
       "189858  tt9916622     movie   \n",
       "189859  tt9916680     movie   \n",
       "189860  tt9916754     movie   \n",
       "\n",
       "                                             primaryTitle  \\\n",
       "0                                          Spanish Fiesta   \n",
       "1                                              Frivolinas   \n",
       "2                                                 Hongxia   \n",
       "3                                          Kate & Leopold   \n",
       "4                                      Muhomatsu no issho   \n",
       "...                                                   ...   \n",
       "189856                                              Coven   \n",
       "189857                                Kuambil Lagi Hatiku   \n",
       "189858        Rodolpho Teóphilo - O Legado de um Pioneiro   \n",
       "189859  De la ilusión al desconcierto: cine colombiano...   \n",
       "189860                     Chico Albuquerque - Revelações   \n",
       "\n",
       "                                            originalTitle  isAdult  startYear  \\\n",
       "0                                       La fête espagnole        0       2019   \n",
       "1                                              Frivolinas        0       2014   \n",
       "2                                                 Hongxia        0       2011   \n",
       "3                                          Kate & Leopold        0       2001   \n",
       "4                                      Muhomatsu no issho        0       2008   \n",
       "...                                                   ...      ...        ...   \n",
       "189856                                           Akelarre        0       2020   \n",
       "189857                                Kuambil Lagi Hatiku        0       2019   \n",
       "189858        Rodolpho Teóphilo - O Legado de um Pioneiro        0       2015   \n",
       "189859  De la ilusión al desconcierto: cine colombiano...        0       2007   \n",
       "189860                     Chico Albuquerque - Revelações        0       2013   \n",
       "\n",
       "        runtimeMinutes                   genres  \n",
       "0                   67                    Drama  \n",
       "1                   80           Comedy,Musical  \n",
       "2                   94                   Action  \n",
       "3                  118   Comedy,Fantasy,Romance  \n",
       "4                  100         Action,Adventure  \n",
       "...                ...                      ...  \n",
       "189856              92  Adventure,Drama,History  \n",
       "189857             123                    Drama  \n",
       "189858              57              Documentary  \n",
       "189859             100              Documentary  \n",
       "189860              49              Documentary  \n",
       "\n",
       "[189861 rows x 8 columns]"
      ],
      "text/html": "<div>\n<style scoped>\n    .dataframe tbody tr th:only-of-type {\n        vertical-align: middle;\n    }\n\n    .dataframe tbody tr th {\n        vertical-align: top;\n    }\n\n    .dataframe thead th {\n        text-align: right;\n    }\n</style>\n<table border=\"1\" class=\"dataframe\">\n  <thead>\n    <tr style=\"text-align: right;\">\n      <th></th>\n      <th>tconst</th>\n      <th>titleType</th>\n      <th>primaryTitle</th>\n      <th>originalTitle</th>\n      <th>isAdult</th>\n      <th>startYear</th>\n      <th>runtimeMinutes</th>\n      <th>genres</th>\n    </tr>\n  </thead>\n  <tbody>\n    <tr>\n      <th>0</th>\n      <td>tt0011216</td>\n      <td>movie</td>\n      <td>Spanish Fiesta</td>\n      <td>La fête espagnole</td>\n      <td>0</td>\n      <td>2019</td>\n      <td>67</td>\n      <td>Drama</td>\n    </tr>\n    <tr>\n      <th>1</th>\n      <td>tt0016906</td>\n      <td>movie</td>\n      <td>Frivolinas</td>\n      <td>Frivolinas</td>\n      <td>0</td>\n      <td>2014</td>\n      <td>80</td>\n      <td>Comedy,Musical</td>\n    </tr>\n    <tr>\n      <th>2</th>\n      <td>tt0019996</td>\n      <td>movie</td>\n      <td>Hongxia</td>\n      <td>Hongxia</td>\n      <td>0</td>\n      <td>2011</td>\n      <td>94</td>\n      <td>Action</td>\n    </tr>\n    <tr>\n      <th>3</th>\n      <td>tt0035423</td>\n      <td>movie</td>\n      <td>Kate &amp; Leopold</td>\n      <td>Kate &amp; Leopold</td>\n      <td>0</td>\n      <td>2001</td>\n      <td>118</td>\n      <td>Comedy,Fantasy,Romance</td>\n    </tr>\n    <tr>\n      <th>4</th>\n      <td>tt0036177</td>\n      <td>movie</td>\n      <td>Muhomatsu no issho</td>\n      <td>Muhomatsu no issho</td>\n      <td>0</td>\n      <td>2008</td>\n      <td>100</td>\n      <td>Action,Adventure</td>\n    </tr>\n    <tr>\n      <th>...</th>\n      <td>...</td>\n      <td>...</td>\n      <td>...</td>\n      <td>...</td>\n      <td>...</td>\n      <td>...</td>\n      <td>...</td>\n      <td>...</td>\n    </tr>\n    <tr>\n      <th>189856</th>\n      <td>tt9916362</td>\n      <td>movie</td>\n      <td>Coven</td>\n      <td>Akelarre</td>\n      <td>0</td>\n      <td>2020</td>\n      <td>92</td>\n      <td>Adventure,Drama,History</td>\n    </tr>\n    <tr>\n      <th>189857</th>\n      <td>tt9916538</td>\n      <td>movie</td>\n      <td>Kuambil Lagi Hatiku</td>\n      <td>Kuambil Lagi Hatiku</td>\n      <td>0</td>\n      <td>2019</td>\n      <td>123</td>\n      <td>Drama</td>\n    </tr>\n    <tr>\n      <th>189858</th>\n      <td>tt9916622</td>\n      <td>movie</td>\n      <td>Rodolpho Teóphilo - O Legado de um Pioneiro</td>\n      <td>Rodolpho Teóphilo - O Legado de um Pioneiro</td>\n      <td>0</td>\n      <td>2015</td>\n      <td>57</td>\n      <td>Documentary</td>\n    </tr>\n    <tr>\n      <th>189859</th>\n      <td>tt9916680</td>\n      <td>movie</td>\n      <td>De la ilusión al desconcierto: cine colombiano...</td>\n      <td>De la ilusión al desconcierto: cine colombiano...</td>\n      <td>0</td>\n      <td>2007</td>\n      <td>100</td>\n      <td>Documentary</td>\n    </tr>\n    <tr>\n      <th>189860</th>\n      <td>tt9916754</td>\n      <td>movie</td>\n      <td>Chico Albuquerque - Revelações</td>\n      <td>Chico Albuquerque - Revelações</td>\n      <td>0</td>\n      <td>2013</td>\n      <td>49</td>\n      <td>Documentary</td>\n    </tr>\n  </tbody>\n</table>\n<p>189861 rows × 8 columns</p>\n</div>"
     },
     "metadata": {},
     "execution_count": 2
    }
   ],
   "source": [
    "df = pd.read_csv(\"data/title.basics.tsv\",sep=\"\\t\")\n",
    "# Select all non tv Series\n",
    "df = df[(df['endYear']=='\\\\N')]\n",
    "df.drop([\"endYear\"],axis=1,inplace=True)\n",
    "df = df[(df['titleType']==\"movie\")]\n",
    "# replace all \\N with NAN and subsequently drop them\n",
    "df.replace(\"\\\\N\",np.nan,inplace=True)\n",
    "df.dropna(inplace=True)\n",
    "# Convert data types to int where feasible\n",
    "df['startYear'] = df['startYear'].astype(int)\n",
    "df['isAdult'] = df['isAdult'].astype(int)\n",
    "df['runtimeMinutes'] = df['runtimeMinutes'].astype(int)\n",
    "\n",
    "df = df[(df['startYear']>=2000) & (df['startYear']<=2020)]\n",
    "\n",
    "df.reset_index(inplace=True,drop=True)\n",
    "df.to_csv(\"data/title.basics_preprocessed.csv\",index=False)\n",
    "df"
   ]
  },
  {
   "cell_type": "markdown",
   "metadata": {},
   "source": [
    "## title crew"
   ]
  },
  {
   "cell_type": "code",
   "execution_count": 4,
   "metadata": {},
   "outputs": [
    {
     "output_type": "stream",
     "name": "stdout",
     "text": [
      "/home/flo/Documents/FS2021/Big Data Analytics/gitRepo/BigDataAnalytics\n",
      "['boxOffice_preprocessed.csv', 'title.crew_preprocessed.csv', 'README.md', 'title.crew.tsv', 'title.basics.tsv', 'tconsts.csv', 'name.basics.tsv', 'title.akas.tsv', 'title.principals.tsv', 'title.basics_preprocessed.csv', 'archive', 'boxOffice.csv', 'title.ratings.tsv', 'title.ratings.csv']\n",
      "False\n"
     ]
    },
    {
     "output_type": "execute_result",
     "data": {
      "text/plain": [
       "            tconst            directors\n",
       "0        tt0000001            nm0005690\n",
       "1        tt0000002            nm0721526\n",
       "2        tt0000003            nm0721526\n",
       "3        tt0000004            nm0721526\n",
       "4        tt0000005            nm0005690\n",
       "...            ...                  ...\n",
       "7869181  tt9916848  nm5519454,nm5519375\n",
       "7869182  tt9916850  nm5519375,nm5519454\n",
       "7869183  tt9916852  nm5519454,nm5519375\n",
       "7869184  tt9916856           nm10538645\n",
       "7869185  tt9916880            nm0996406\n",
       "\n",
       "[7869186 rows x 2 columns]"
      ],
      "text/html": "<div>\n<style scoped>\n    .dataframe tbody tr th:only-of-type {\n        vertical-align: middle;\n    }\n\n    .dataframe tbody tr th {\n        vertical-align: top;\n    }\n\n    .dataframe thead th {\n        text-align: right;\n    }\n</style>\n<table border=\"1\" class=\"dataframe\">\n  <thead>\n    <tr style=\"text-align: right;\">\n      <th></th>\n      <th>tconst</th>\n      <th>directors</th>\n    </tr>\n  </thead>\n  <tbody>\n    <tr>\n      <th>0</th>\n      <td>tt0000001</td>\n      <td>nm0005690</td>\n    </tr>\n    <tr>\n      <th>1</th>\n      <td>tt0000002</td>\n      <td>nm0721526</td>\n    </tr>\n    <tr>\n      <th>2</th>\n      <td>tt0000003</td>\n      <td>nm0721526</td>\n    </tr>\n    <tr>\n      <th>3</th>\n      <td>tt0000004</td>\n      <td>nm0721526</td>\n    </tr>\n    <tr>\n      <th>4</th>\n      <td>tt0000005</td>\n      <td>nm0005690</td>\n    </tr>\n    <tr>\n      <th>...</th>\n      <td>...</td>\n      <td>...</td>\n    </tr>\n    <tr>\n      <th>7869181</th>\n      <td>tt9916848</td>\n      <td>nm5519454,nm5519375</td>\n    </tr>\n    <tr>\n      <th>7869182</th>\n      <td>tt9916850</td>\n      <td>nm5519375,nm5519454</td>\n    </tr>\n    <tr>\n      <th>7869183</th>\n      <td>tt9916852</td>\n      <td>nm5519454,nm5519375</td>\n    </tr>\n    <tr>\n      <th>7869184</th>\n      <td>tt9916856</td>\n      <td>nm10538645</td>\n    </tr>\n    <tr>\n      <th>7869185</th>\n      <td>tt9916880</td>\n      <td>nm0996406</td>\n    </tr>\n  </tbody>\n</table>\n<p>7869186 rows × 2 columns</p>\n</div>"
     },
     "metadata": {},
     "execution_count": 4
    }
   ],
   "source": [
    "import os\n",
    "print(os.getcwd())\n",
    "print(os.listdir('./data'))\n",
    "df = pd.read_csv('./data/title.crew.tsv', sep= '\\t', header=0)\n",
    "df.drop(['writers'], axis=1, inplace=True)\n",
    "print(df['directors'].isnull().values.any())\n",
    "df.to_csv(\"data/title.crew_preprocessed.csv\",index=False)\n",
    "df"
   ]
  },
  {
   "source": [
    "# title.akas"
   ],
   "cell_type": "markdown",
   "metadata": {}
  },
  {
   "cell_type": "code",
   "execution_count": 7,
   "metadata": {},
   "outputs": [
    {
     "output_type": "stream",
     "name": "stderr",
     "text": [
      "/home/flo/anaconda3/envs/datascience/lib/python3.8/site-packages/IPython/core/interactiveshell.py:3165: DtypeWarning: Columns (7) have mixed types.Specify dtype option on import or set low_memory=False.\n  has_raised = await self.run_ast_nodes(code_ast.body, cell_name,\n"
     ]
    },
    {
     "output_type": "execute_result",
     "data": {
      "text/plain": [
       "            titleId language isOriginalTitle\n",
       "0         tt0000001       \\N               0\n",
       "1         tt0000001       \\N               0\n",
       "2         tt0000001       \\N               0\n",
       "3         tt0000001       \\N               0\n",
       "4         tt0000001       \\N               0\n",
       "...             ...      ...             ...\n",
       "26152127  tt9916852       ja               0\n",
       "26152128  tt9916852       pt               0\n",
       "26152129  tt9916852       it               0\n",
       "26152130  tt9916852       hi               0\n",
       "26152131  tt9916856       \\N               0\n",
       "\n",
       "[26152132 rows x 3 columns]"
      ],
      "text/html": "<div>\n<style scoped>\n    .dataframe tbody tr th:only-of-type {\n        vertical-align: middle;\n    }\n\n    .dataframe tbody tr th {\n        vertical-align: top;\n    }\n\n    .dataframe thead th {\n        text-align: right;\n    }\n</style>\n<table border=\"1\" class=\"dataframe\">\n  <thead>\n    <tr style=\"text-align: right;\">\n      <th></th>\n      <th>titleId</th>\n      <th>language</th>\n      <th>isOriginalTitle</th>\n    </tr>\n  </thead>\n  <tbody>\n    <tr>\n      <th>0</th>\n      <td>tt0000001</td>\n      <td>\\N</td>\n      <td>0</td>\n    </tr>\n    <tr>\n      <th>1</th>\n      <td>tt0000001</td>\n      <td>\\N</td>\n      <td>0</td>\n    </tr>\n    <tr>\n      <th>2</th>\n      <td>tt0000001</td>\n      <td>\\N</td>\n      <td>0</td>\n    </tr>\n    <tr>\n      <th>3</th>\n      <td>tt0000001</td>\n      <td>\\N</td>\n      <td>0</td>\n    </tr>\n    <tr>\n      <th>4</th>\n      <td>tt0000001</td>\n      <td>\\N</td>\n      <td>0</td>\n    </tr>\n    <tr>\n      <th>...</th>\n      <td>...</td>\n      <td>...</td>\n      <td>...</td>\n    </tr>\n    <tr>\n      <th>26152127</th>\n      <td>tt9916852</td>\n      <td>ja</td>\n      <td>0</td>\n    </tr>\n    <tr>\n      <th>26152128</th>\n      <td>tt9916852</td>\n      <td>pt</td>\n      <td>0</td>\n    </tr>\n    <tr>\n      <th>26152129</th>\n      <td>tt9916852</td>\n      <td>it</td>\n      <td>0</td>\n    </tr>\n    <tr>\n      <th>26152130</th>\n      <td>tt9916852</td>\n      <td>hi</td>\n      <td>0</td>\n    </tr>\n    <tr>\n      <th>26152131</th>\n      <td>tt9916856</td>\n      <td>\\N</td>\n      <td>0</td>\n    </tr>\n  </tbody>\n</table>\n<p>26152132 rows × 3 columns</p>\n</div>"
     },
     "metadata": {},
     "execution_count": 7
    }
   ],
   "source": [
    "df = pd.read_csv(\"data/title.akas.tsv\",\"\\t\",usecols=['titleId','language','isOriginalTitle'])\n",
    "df"
   ]
  },
  {
   "cell_type": "code",
   "execution_count": 8,
   "metadata": {},
   "outputs": [
    {
     "output_type": "execute_result",
     "data": {
      "text/plain": [
       "array(['\\\\N', 'ca', 'da', 'en', 'ja'], dtype=object)"
      ]
     },
     "metadata": {},
     "execution_count": 8
    }
   ],
   "source": [
    "df = df[df[\"isOriginalTitle\"]==1]\n",
    "np.unique(df[\"language\"])"
   ]
  },
  {
   "cell_type": "markdown",
   "metadata": {},
   "source": [
    "## name basics "
   ]
  },
  {
   "cell_type": "code",
   "execution_count": 5,
   "metadata": {
    "scrolled": true
   },
   "outputs": [
    {
     "output_type": "execute_result",
     "data": {
      "text/plain": [
       "             nconst         primaryName\n",
       "0         nm0000001        Fred Astaire\n",
       "1         nm0000002       Lauren Bacall\n",
       "2         nm0000003     Brigitte Bardot\n",
       "3         nm0000004        John Belushi\n",
       "4         nm0000005      Ingmar Bergman\n",
       "...             ...                 ...\n",
       "10900082  nm9993714   Romeo del Rosario\n",
       "10900083  nm9993716       Essias Loberg\n",
       "10900084  nm9993717  Harikrishnan Rajan\n",
       "10900085  nm9993718         Aayush Nair\n",
       "10900086  nm9993719          Andre Hill\n",
       "\n",
       "[10900087 rows x 2 columns]"
      ],
      "text/html": "<div>\n<style scoped>\n    .dataframe tbody tr th:only-of-type {\n        vertical-align: middle;\n    }\n\n    .dataframe tbody tr th {\n        vertical-align: top;\n    }\n\n    .dataframe thead th {\n        text-align: right;\n    }\n</style>\n<table border=\"1\" class=\"dataframe\">\n  <thead>\n    <tr style=\"text-align: right;\">\n      <th></th>\n      <th>nconst</th>\n      <th>primaryName</th>\n    </tr>\n  </thead>\n  <tbody>\n    <tr>\n      <th>0</th>\n      <td>nm0000001</td>\n      <td>Fred Astaire</td>\n    </tr>\n    <tr>\n      <th>1</th>\n      <td>nm0000002</td>\n      <td>Lauren Bacall</td>\n    </tr>\n    <tr>\n      <th>2</th>\n      <td>nm0000003</td>\n      <td>Brigitte Bardot</td>\n    </tr>\n    <tr>\n      <th>3</th>\n      <td>nm0000004</td>\n      <td>John Belushi</td>\n    </tr>\n    <tr>\n      <th>4</th>\n      <td>nm0000005</td>\n      <td>Ingmar Bergman</td>\n    </tr>\n    <tr>\n      <th>...</th>\n      <td>...</td>\n      <td>...</td>\n    </tr>\n    <tr>\n      <th>10900082</th>\n      <td>nm9993714</td>\n      <td>Romeo del Rosario</td>\n    </tr>\n    <tr>\n      <th>10900083</th>\n      <td>nm9993716</td>\n      <td>Essias Loberg</td>\n    </tr>\n    <tr>\n      <th>10900084</th>\n      <td>nm9993717</td>\n      <td>Harikrishnan Rajan</td>\n    </tr>\n    <tr>\n      <th>10900085</th>\n      <td>nm9993718</td>\n      <td>Aayush Nair</td>\n    </tr>\n    <tr>\n      <th>10900086</th>\n      <td>nm9993719</td>\n      <td>Andre Hill</td>\n    </tr>\n  </tbody>\n</table>\n<p>10900087 rows × 2 columns</p>\n</div>"
     },
     "metadata": {},
     "execution_count": 5
    }
   ],
   "source": [
    "df = pd.read_csv(\"data/name.basics.tsv\",sep=\"\\t\")\n",
    "# Drop unnecessary columns\n",
    "df.drop([\"birthYear\", \"deathYear\",\"primaryProfession\",\"knownForTitles\"],axis=1,inplace=True)\n",
    "# replace all \\N with NAN and subsequently drop them\n",
    "df.replace(\"\\\\N\",np.nan,inplace=True)\n",
    "df.dropna(inplace=True)\n",
    "\n",
    "df.reset_index(inplace=True,drop=True)\n",
    "df.to_csv(\"data/name.basics_preprocessed.csv\",index=False)\n",
    "df"
   ]
  },
  {
   "cell_type": "markdown",
   "metadata": {},
   "source": [
    "## title principals"
   ]
  },
  {
   "cell_type": "code",
   "execution_count": 6,
   "metadata": {},
   "outputs": [
    {
     "output_type": "execute_result",
     "data": {
      "text/plain": [
       "             tconst     nconst\n",
       "0         tt0000001  nm1588970\n",
       "1         tt0000001  nm0005690\n",
       "2         tt0000001  nm0374658\n",
       "3         tt0000002  nm0721526\n",
       "4         tt0000002  nm1335271\n",
       "...             ...        ...\n",
       "44505357  tt9916880  nm0996406\n",
       "44505358  tt9916880  nm1482639\n",
       "44505359  tt9916880  nm2586970\n",
       "44505360  tt9916880  nm1594058\n",
       "44505361  tt9916880  nm1052583\n",
       "\n",
       "[44505362 rows x 2 columns]"
      ],
      "text/html": "<div>\n<style scoped>\n    .dataframe tbody tr th:only-of-type {\n        vertical-align: middle;\n    }\n\n    .dataframe tbody tr th {\n        vertical-align: top;\n    }\n\n    .dataframe thead th {\n        text-align: right;\n    }\n</style>\n<table border=\"1\" class=\"dataframe\">\n  <thead>\n    <tr style=\"text-align: right;\">\n      <th></th>\n      <th>tconst</th>\n      <th>nconst</th>\n    </tr>\n  </thead>\n  <tbody>\n    <tr>\n      <th>0</th>\n      <td>tt0000001</td>\n      <td>nm1588970</td>\n    </tr>\n    <tr>\n      <th>1</th>\n      <td>tt0000001</td>\n      <td>nm0005690</td>\n    </tr>\n    <tr>\n      <th>2</th>\n      <td>tt0000001</td>\n      <td>nm0374658</td>\n    </tr>\n    <tr>\n      <th>3</th>\n      <td>tt0000002</td>\n      <td>nm0721526</td>\n    </tr>\n    <tr>\n      <th>4</th>\n      <td>tt0000002</td>\n      <td>nm1335271</td>\n    </tr>\n    <tr>\n      <th>...</th>\n      <td>...</td>\n      <td>...</td>\n    </tr>\n    <tr>\n      <th>44505357</th>\n      <td>tt9916880</td>\n      <td>nm0996406</td>\n    </tr>\n    <tr>\n      <th>44505358</th>\n      <td>tt9916880</td>\n      <td>nm1482639</td>\n    </tr>\n    <tr>\n      <th>44505359</th>\n      <td>tt9916880</td>\n      <td>nm2586970</td>\n    </tr>\n    <tr>\n      <th>44505360</th>\n      <td>tt9916880</td>\n      <td>nm1594058</td>\n    </tr>\n    <tr>\n      <th>44505361</th>\n      <td>tt9916880</td>\n      <td>nm1052583</td>\n    </tr>\n  </tbody>\n</table>\n<p>44505362 rows × 2 columns</p>\n</div>"
     },
     "metadata": {},
     "execution_count": 6
    }
   ],
   "source": [
    "df = pd.read_csv(\"data/title.principals.tsv\",sep=\"\\t\")\n",
    "# Drop unnecessary columns\n",
    "df.drop([\"ordering\", \"category\",\"job\",\"characters\"],axis=1,inplace=True)\n",
    "# replace all \\N with NAN and subsequently drop them\n",
    "df.replace(\"\\\\N\",np.nan,inplace=True)\n",
    "df.dropna(inplace=True)\n",
    "\n",
    "df.reset_index(inplace=True,drop=True)\n",
    "df.to_csv(\"data/title.principals_preprocessed.csv\",index=False)\n",
    "df"
   ]
  },
  {
   "cell_type": "markdown",
   "metadata": {},
   "source": [
    "## title ratings"
   ]
  },
  {
   "cell_type": "code",
   "execution_count": 25,
   "metadata": {},
   "outputs": [
    {
     "output_type": "execute_result",
     "data": {
      "text/plain": [
       "            tconst  averageRating\n",
       "0        tt0000001            5.7\n",
       "1        tt0000002            6.1\n",
       "2        tt0000003            6.5\n",
       "3        tt0000004            6.1\n",
       "4        tt0000005            6.1\n",
       "...            ...            ...\n",
       "1148469  tt9916682            5.6\n",
       "1148470  tt9916690            6.6\n",
       "1148471  tt9916720            6.5\n",
       "1148472  tt9916766            6.9\n",
       "1148473  tt9916778            7.5\n",
       "\n",
       "[1148474 rows x 2 columns]"
      ],
      "text/html": "<div>\n<style scoped>\n    .dataframe tbody tr th:only-of-type {\n        vertical-align: middle;\n    }\n\n    .dataframe tbody tr th {\n        vertical-align: top;\n    }\n\n    .dataframe thead th {\n        text-align: right;\n    }\n</style>\n<table border=\"1\" class=\"dataframe\">\n  <thead>\n    <tr style=\"text-align: right;\">\n      <th></th>\n      <th>tconst</th>\n      <th>averageRating</th>\n    </tr>\n  </thead>\n  <tbody>\n    <tr>\n      <th>0</th>\n      <td>tt0000001</td>\n      <td>5.7</td>\n    </tr>\n    <tr>\n      <th>1</th>\n      <td>tt0000002</td>\n      <td>6.1</td>\n    </tr>\n    <tr>\n      <th>2</th>\n      <td>tt0000003</td>\n      <td>6.5</td>\n    </tr>\n    <tr>\n      <th>3</th>\n      <td>tt0000004</td>\n      <td>6.1</td>\n    </tr>\n    <tr>\n      <th>4</th>\n      <td>tt0000005</td>\n      <td>6.1</td>\n    </tr>\n    <tr>\n      <th>...</th>\n      <td>...</td>\n      <td>...</td>\n    </tr>\n    <tr>\n      <th>1148469</th>\n      <td>tt9916682</td>\n      <td>5.6</td>\n    </tr>\n    <tr>\n      <th>1148470</th>\n      <td>tt9916690</td>\n      <td>6.6</td>\n    </tr>\n    <tr>\n      <th>1148471</th>\n      <td>tt9916720</td>\n      <td>6.5</td>\n    </tr>\n    <tr>\n      <th>1148472</th>\n      <td>tt9916766</td>\n      <td>6.9</td>\n    </tr>\n    <tr>\n      <th>1148473</th>\n      <td>tt9916778</td>\n      <td>7.5</td>\n    </tr>\n  </tbody>\n</table>\n<p>1148474 rows × 2 columns</p>\n</div>"
     },
     "metadata": {},
     "execution_count": 25
    }
   ],
   "source": [
    "df = pd.read_csv(\"data/title.ratings.tsv\", sep =\"\\t\")\n",
    "# Drop unnecessary columns\n",
    "df.drop([\"numVotes\"], axis = 1, inplace = True)\n",
    "df.dropna(inplace = True)\n",
    "\n",
    "df.reset_index(inplace=True, drop=True)\n",
    "df.to_csv(\"data/title.ratings_preprocessed.csv\", index=False)\n",
    "df"
   ]
  },
  {
   "cell_type": "markdown",
   "metadata": {},
   "source": [
    "## Box Office Data"
   ]
  },
  {
   "cell_type": "code",
   "execution_count": 9,
   "metadata": {},
   "outputs": [],
   "source": [
    "df = pd.read_csv(\"data/boxOffice.csv\")\n",
    "df.dropna(how=\"all\",subset=[\"domestic\",\"international\",\"worldwide\"],inplace=True)\n",
    "df.reset_index(inplace=True,drop=True)\n",
    "df.to_csv(\"data/boxOffice_preprocessed.csv\",index=False)\n",
    "df"
   ]
  },
  {
   "source": [
    "# Joining Data"
   ],
   "cell_type": "markdown",
   "metadata": {}
  },
  {
   "cell_type": "code",
   "execution_count": 57,
   "metadata": {},
   "outputs": [
    {
     "output_type": "execute_result",
     "data": {
      "text/plain": [
       "           tconst    domestic  international   worldwide titleType  \\\n",
       "0       tt0035423  47121859.0     28897189.0  76019048.0     movie   \n",
       "1       tt0035423  47121859.0     28897189.0  76019048.0     movie   \n",
       "2       tt0035423  47121859.0     28897189.0  76019048.0     movie   \n",
       "3       tt0035423  47121859.0     28897189.0  76019048.0     movie   \n",
       "4       tt0035423  47121859.0     28897189.0  76019048.0     movie   \n",
       "...           ...         ...            ...         ...       ...   \n",
       "335759  tt9905412         NaN         4791.0      4791.0     movie   \n",
       "335760  tt9905412         NaN         4791.0      4791.0     movie   \n",
       "335761  tt9905412         NaN         4791.0      4791.0     movie   \n",
       "335762  tt9905412         NaN         4791.0      4791.0     movie   \n",
       "335763  tt9905412         NaN         4791.0      4791.0     movie   \n",
       "\n",
       "          primaryTitle   originalTitle  isAdult  startYear  runtimeMinutes  \\\n",
       "0       Kate & Leopold  Kate & Leopold        0       2001             118   \n",
       "1       Kate & Leopold  Kate & Leopold        0       2001             118   \n",
       "2       Kate & Leopold  Kate & Leopold        0       2001             118   \n",
       "3       Kate & Leopold  Kate & Leopold        0       2001             118   \n",
       "4       Kate & Leopold  Kate & Leopold        0       2001             118   \n",
       "...                ...             ...      ...        ...             ...   \n",
       "335759           Ottam           Ottam        0       2019             120   \n",
       "335760           Ottam           Ottam        0       2019             120   \n",
       "335761           Ottam           Ottam        0       2019             120   \n",
       "335762           Ottam           Ottam        0       2019             120   \n",
       "335763           Ottam           Ottam        0       2019             120   \n",
       "\n",
       "                        genres   directors      nconst  averageRating  \n",
       "0       Comedy,Fantasy,Romance   nm0003506   nm0107463            6.4  \n",
       "1       Comedy,Fantasy,Romance   nm0003506   nm0000212            6.4  \n",
       "2       Comedy,Fantasy,Romance   nm0003506   nm0413168            6.4  \n",
       "3       Comedy,Fantasy,Romance   nm0003506   nm0000630            6.4  \n",
       "4       Comedy,Fantasy,Romance   nm0003506   nm0005227            6.4  \n",
       "...                        ...         ...         ...            ...  \n",
       "335759                   Drama  nm10533890  nm10533890            7.3  \n",
       "335760                   Drama  nm10533890  nm10533895            7.3  \n",
       "335761                   Drama  nm10533890   nm6546398            7.3  \n",
       "335762                   Drama  nm10533890   nm6412514            7.3  \n",
       "335763                   Drama  nm10533890   nm3175230            7.3  \n",
       "\n",
       "[335764 rows x 14 columns]"
      ],
      "text/html": "<div>\n<style scoped>\n    .dataframe tbody tr th:only-of-type {\n        vertical-align: middle;\n    }\n\n    .dataframe tbody tr th {\n        vertical-align: top;\n    }\n\n    .dataframe thead th {\n        text-align: right;\n    }\n</style>\n<table border=\"1\" class=\"dataframe\">\n  <thead>\n    <tr style=\"text-align: right;\">\n      <th></th>\n      <th>tconst</th>\n      <th>domestic</th>\n      <th>international</th>\n      <th>worldwide</th>\n      <th>titleType</th>\n      <th>primaryTitle</th>\n      <th>originalTitle</th>\n      <th>isAdult</th>\n      <th>startYear</th>\n      <th>runtimeMinutes</th>\n      <th>genres</th>\n      <th>directors</th>\n      <th>nconst</th>\n      <th>averageRating</th>\n    </tr>\n  </thead>\n  <tbody>\n    <tr>\n      <th>0</th>\n      <td>tt0035423</td>\n      <td>47121859.0</td>\n      <td>28897189.0</td>\n      <td>76019048.0</td>\n      <td>movie</td>\n      <td>Kate &amp; Leopold</td>\n      <td>Kate &amp; Leopold</td>\n      <td>0</td>\n      <td>2001</td>\n      <td>118</td>\n      <td>Comedy,Fantasy,Romance</td>\n      <td>nm0003506</td>\n      <td>nm0107463</td>\n      <td>6.4</td>\n    </tr>\n    <tr>\n      <th>1</th>\n      <td>tt0035423</td>\n      <td>47121859.0</td>\n      <td>28897189.0</td>\n      <td>76019048.0</td>\n      <td>movie</td>\n      <td>Kate &amp; Leopold</td>\n      <td>Kate &amp; Leopold</td>\n      <td>0</td>\n      <td>2001</td>\n      <td>118</td>\n      <td>Comedy,Fantasy,Romance</td>\n      <td>nm0003506</td>\n      <td>nm0000212</td>\n      <td>6.4</td>\n    </tr>\n    <tr>\n      <th>2</th>\n      <td>tt0035423</td>\n      <td>47121859.0</td>\n      <td>28897189.0</td>\n      <td>76019048.0</td>\n      <td>movie</td>\n      <td>Kate &amp; Leopold</td>\n      <td>Kate &amp; Leopold</td>\n      <td>0</td>\n      <td>2001</td>\n      <td>118</td>\n      <td>Comedy,Fantasy,Romance</td>\n      <td>nm0003506</td>\n      <td>nm0413168</td>\n      <td>6.4</td>\n    </tr>\n    <tr>\n      <th>3</th>\n      <td>tt0035423</td>\n      <td>47121859.0</td>\n      <td>28897189.0</td>\n      <td>76019048.0</td>\n      <td>movie</td>\n      <td>Kate &amp; Leopold</td>\n      <td>Kate &amp; Leopold</td>\n      <td>0</td>\n      <td>2001</td>\n      <td>118</td>\n      <td>Comedy,Fantasy,Romance</td>\n      <td>nm0003506</td>\n      <td>nm0000630</td>\n      <td>6.4</td>\n    </tr>\n    <tr>\n      <th>4</th>\n      <td>tt0035423</td>\n      <td>47121859.0</td>\n      <td>28897189.0</td>\n      <td>76019048.0</td>\n      <td>movie</td>\n      <td>Kate &amp; Leopold</td>\n      <td>Kate &amp; Leopold</td>\n      <td>0</td>\n      <td>2001</td>\n      <td>118</td>\n      <td>Comedy,Fantasy,Romance</td>\n      <td>nm0003506</td>\n      <td>nm0005227</td>\n      <td>6.4</td>\n    </tr>\n    <tr>\n      <th>...</th>\n      <td>...</td>\n      <td>...</td>\n      <td>...</td>\n      <td>...</td>\n      <td>...</td>\n      <td>...</td>\n      <td>...</td>\n      <td>...</td>\n      <td>...</td>\n      <td>...</td>\n      <td>...</td>\n      <td>...</td>\n      <td>...</td>\n      <td>...</td>\n    </tr>\n    <tr>\n      <th>335759</th>\n      <td>tt9905412</td>\n      <td>NaN</td>\n      <td>4791.0</td>\n      <td>4791.0</td>\n      <td>movie</td>\n      <td>Ottam</td>\n      <td>Ottam</td>\n      <td>0</td>\n      <td>2019</td>\n      <td>120</td>\n      <td>Drama</td>\n      <td>nm10533890</td>\n      <td>nm10533890</td>\n      <td>7.3</td>\n    </tr>\n    <tr>\n      <th>335760</th>\n      <td>tt9905412</td>\n      <td>NaN</td>\n      <td>4791.0</td>\n      <td>4791.0</td>\n      <td>movie</td>\n      <td>Ottam</td>\n      <td>Ottam</td>\n      <td>0</td>\n      <td>2019</td>\n      <td>120</td>\n      <td>Drama</td>\n      <td>nm10533890</td>\n      <td>nm10533895</td>\n      <td>7.3</td>\n    </tr>\n    <tr>\n      <th>335761</th>\n      <td>tt9905412</td>\n      <td>NaN</td>\n      <td>4791.0</td>\n      <td>4791.0</td>\n      <td>movie</td>\n      <td>Ottam</td>\n      <td>Ottam</td>\n      <td>0</td>\n      <td>2019</td>\n      <td>120</td>\n      <td>Drama</td>\n      <td>nm10533890</td>\n      <td>nm6546398</td>\n      <td>7.3</td>\n    </tr>\n    <tr>\n      <th>335762</th>\n      <td>tt9905412</td>\n      <td>NaN</td>\n      <td>4791.0</td>\n      <td>4791.0</td>\n      <td>movie</td>\n      <td>Ottam</td>\n      <td>Ottam</td>\n      <td>0</td>\n      <td>2019</td>\n      <td>120</td>\n      <td>Drama</td>\n      <td>nm10533890</td>\n      <td>nm6412514</td>\n      <td>7.3</td>\n    </tr>\n    <tr>\n      <th>335763</th>\n      <td>tt9905412</td>\n      <td>NaN</td>\n      <td>4791.0</td>\n      <td>4791.0</td>\n      <td>movie</td>\n      <td>Ottam</td>\n      <td>Ottam</td>\n      <td>0</td>\n      <td>2019</td>\n      <td>120</td>\n      <td>Drama</td>\n      <td>nm10533890</td>\n      <td>nm3175230</td>\n      <td>7.3</td>\n    </tr>\n  </tbody>\n</table>\n<p>335764 rows × 14 columns</p>\n</div>"
     },
     "metadata": {},
     "execution_count": 57
    }
   ],
   "source": [
    "def join_another(df1,df2, on_col):\n",
    "    df1['tconst'] = df1['tconst'].astype(str)\n",
    "    df2['tconst'] = df2['tconst'].astype(str)\n",
    "    return pd.merge(df1,df2,on=on_col,how=\"inner\")\n",
    "\n",
    "\n",
    "df = pd.read_csv(\"data/boxOffice_preprocessed.csv\")\n",
    "\n",
    "fileNames = [\n",
    "    'title.basics_preprocessed.csv',\n",
    "    'title.crew_preprocessed.csv',\n",
    "    \"title.principals_preprocessed.csv\",\n",
    "    \"title.ratings_preprocessed.csv\"\n",
    "    ]\n",
    "for fileName in fileNames:\n",
    "    df_to_join = pd.read_csv(\"data/\"+fileName)\n",
    "    df = join_another(df,df_to_join,'tconst')\n",
    "\n",
    "df_to_join = pd.read_csv(\"data/name.basics_preprocessed.csv\")\n",
    "df = pd.merge(df,df_to_join,how='inner',on=\"nconst\")\n",
    "df_to_join.rename(columns={\"nconst\":'directors'})\n",
    "df = pd.merge(df,df_to_join,how='inner',on=[\"directors\"])\n",
    "df = df.rename(columns={\"primaryName_x\":\"actor_name\",\"primaryName_y\":\"director_name\"})\n",
    "df.to_csv(\"data/allData.csv\")\n",
    "df\n"
   ]
  },
  {
   "source": [
    "# Preprocessing whole data set"
   ],
   "cell_type": "markdown",
   "metadata": {}
  },
  {
   "source": [
    "## One hot encode genres"
   ],
   "cell_type": "markdown",
   "metadata": {}
  },
  {
   "cell_type": "code",
   "execution_count": 9,
   "metadata": {},
   "outputs": [
    {
     "output_type": "stream",
     "name": "stdout",
     "text": [
      "{'Crime', 'Thriller', 'Horror', 'Western', 'Musical', 'Adult', 'Animation', 'Action', 'Mystery', 'Documentary', 'History', 'Fantasy', 'Family', 'Biography', 'War', 'Adventure', 'Comedy', 'Sport', 'Drama', 'Sci-Fi', 'Music', 'Romance', 'News'}\n23\n"
     ]
    }
   ],
   "source": [
    "df = pd.read_csv(\"data/allData.csv\")\n",
    "genres = np.unique(df['genres'])\n",
    "genreset = set()\n",
    "for genre in genres:\n",
    "    for g in genre.split(\",\"):\n",
    "        genreset.add(g)\n",
    "\n",
    "print(genreset)\n",
    "print(len(genreset))\n",
    "for i in genreset:\n",
    "    df[i] = 0"
   ]
  },
  {
   "cell_type": "code",
   "execution_count": 96,
   "metadata": {},
   "outputs": [
    {
     "output_type": "execute_result",
     "data": {
      "text/plain": [
       "(72183, 39)"
      ]
     },
     "metadata": {},
     "execution_count": 96
    }
   ],
   "source": [
    "df[df['startYear']>=2017].shape"
   ]
  },
  {
   "cell_type": "code",
   "execution_count": 101,
   "metadata": {},
   "outputs": [
    {
     "output_type": "stream",
     "name": "stdout",
     "text": [
      "tconst: 0\n",
      "domestic: 204539\n",
      "international: 27259\n",
      "worldwide: 0\n",
      "titleType: 0\n",
      "primaryTitle: 0\n",
      "originalTitle: 0\n",
      "isAdult: 0\n",
      "startYear: 0\n",
      "runtimeMinutes: 0\n",
      "genres: 0\n",
      "directors: 0\n",
      "nconst: 0\n",
      "averageRating: 0\n",
      "actor_name: 0\n",
      "director_name: 0\n",
      "Action: 0\n",
      "Fantasy: 0\n",
      "Comedy: 0\n",
      "History: 0\n",
      "Animation: 0\n",
      "Sport: 0\n",
      "Biography: 0\n",
      "Documentary: 0\n",
      "Crime: 0\n",
      "Western: 0\n",
      "Adult: 0\n",
      "Romance: 0\n",
      "Musical: 0\n",
      "War: 0\n",
      "Mystery: 0\n",
      "Drama: 0\n",
      "Family: 0\n",
      "Sci-Fi: 0\n",
      "Music: 0\n",
      "Horror: 0\n",
      "Thriller: 0\n",
      "News: 0\n",
      "Adventure: 0\n"
     ]
    },
    {
     "output_type": "execute_result",
     "data": {
      "text/plain": [
       "tconst                         tt0035423\n",
       "domestic                      47121859.0\n",
       "international                 28897189.0\n",
       "worldwide                     76019048.0\n",
       "titleType                          movie\n",
       "primaryTitle              Kate & Leopold\n",
       "originalTitle             Kate & Leopold\n",
       "isAdult                                0\n",
       "startYear                           2001\n",
       "runtimeMinutes                       118\n",
       "genres            Comedy,Fantasy,Romance\n",
       "directors                      nm0003506\n",
       "nconst                         nm0107463\n",
       "averageRating                        6.4\n",
       "actor_name                 David Brenner\n",
       "director_name              James Mangold\n",
       "Action                                 0\n",
       "Fantasy                                1\n",
       "Comedy                                 1\n",
       "History                                0\n",
       "Animation                              0\n",
       "Sport                                  0\n",
       "Biography                              0\n",
       "Documentary                            0\n",
       "Crime                                  0\n",
       "Western                                0\n",
       "Adult                                  0\n",
       "Romance                                1\n",
       "Musical                                0\n",
       "War                                    0\n",
       "Mystery                                0\n",
       "Drama                                  0\n",
       "Family                                 0\n",
       "Sci-Fi                                 0\n",
       "Music                                  0\n",
       "Horror                                 0\n",
       "Thriller                               0\n",
       "News                                   0\n",
       "Adventure                              0\n",
       "Name: 0, dtype: object"
      ]
     },
     "metadata": {},
     "execution_count": 101
    }
   ],
   "source": [
    "for i in df.columns:\n",
    "    print(f\"{i}: {np.sum(df[i].isnull())}\")\n",
    "df.iloc[0]"
   ]
  },
  {
   "cell_type": "code",
   "execution_count": 16,
   "metadata": {},
   "outputs": [
    {
     "output_type": "execute_result",
     "data": {
      "text/plain": [
       "array(['Breckin Meyer', 'Cathy Konrad', 'David Brenner', 'Hugh Jackman',\n",
       "       'James Mangold', 'Liev Schreiber', 'Meg Ryan', 'Rolfe Kent',\n",
       "       'Steven Rogers', 'Stuart Dryburgh'], dtype=object)"
      ]
     },
     "metadata": {},
     "execution_count": 16
    }
   ],
   "source": [
    "x = df[df['primaryTitle']==\"Kate & Leopold\"]\n",
    "np.unique(x['actor_name'])"
   ]
  },
  {
   "cell_type": "markdown",
   "metadata": {},
   "source": [
    "# Data Preprocessing\n",
    "\n",
    "## Steps performed\n",
    "\n",
    "### dropping columns, imputing missing values, categorical datapoints\n"
   ]
  },
  {
   "cell_type": "code",
   "execution_count": null,
   "metadata": {},
   "outputs": [],
   "source": []
  },
  {
   "cell_type": "markdown",
   "metadata": {},
   "source": [
    "# Kfold to decrease potential overfitting"
   ]
  },
  {
   "cell_type": "code",
   "execution_count": null,
   "metadata": {},
   "outputs": [],
   "source": [
    "from sklearn.model_selection import KFold\n",
    "\n",
    "def kfold_validation(X,y,model):\n",
    "    start = time.time()\n",
    "    kf = KFold(n_splits=5,shuffle=True, random_state=69420) \n",
    "    mses = []\n",
    "    models = []\n",
    "    count = 0\n",
    "    for trainIndices,testIndices in kf.split(X):\n",
    "        print(f\"iteration: {count}\")\n",
    "        Xtrain,Xval = X[trainIndices,:],X[testIndices,:]\n",
    "        ytrain,yval = y[trainIndices],y[testIndices]\n",
    "        model.fit(Xtrain,ytrain)\n",
    "        yhat = model.predict(Xval)\n",
    "        mse = np.sum(np.square(yval-yhat))/yval.size # mean squared error\n",
    "        mses.append(mse)\n",
    "        models.append(model)\n",
    "        count+=1\n",
    "    print(f\"time used (seconds): {time.time()-start}\")\n",
    "    return mses, models\n"
   ]
  },
  {
   "cell_type": "markdown",
   "metadata": {},
   "source": [
    "# Standardise to make data more comparable"
   ]
  },
  {
   "cell_type": "code",
   "execution_count": null,
   "metadata": {},
   "outputs": [],
   "source": [
    "from sklearn.linear_model import LinearRegression\n",
    "from sklearn.model_selection import train_test_split\n",
    "\n",
    "Xtrain,Xtest, ytrain,ytest = train_test_split(X,y,shuffle=True,train_size=0.8)\n",
    "\n",
    "def standardise_data(X):\n",
    "    mean = np.mean(X)\n",
    "    std = np.std(X)\n",
    "    X_std = (X-mean)/std\n",
    "    return X_std, mean, std\n",
    "\n",
    "#kf = KFold(n_splits=1,shuffle=True, random_state=69420) \n",
    "\n",
    "Xtrain_std, X_train_mean, X_train_std_div = standardise_data(Xtrain)\n",
    "Xtest_std = (Xtest-X_train_mean)/X_train_std_div\n"
   ]
  },
  {
   "cell_type": "markdown",
   "metadata": {},
   "source": [
    "# Linear Regression"
   ]
  },
  {
   "cell_type": "code",
   "execution_count": null,
   "metadata": {},
   "outputs": [],
   "source": [
    "model = LinearRegression()\n",
    "mses,models = kfold_validation(Xtrain,ytrain,model)\n",
    "yhat=models[np.argmin(mses)].predict(Xtest)\n",
    "np.mean(np.square(yhat-ytest))"
   ]
  },
  {
   "cell_type": "markdown",
   "metadata": {},
   "source": [
    "# Random Forest"
   ]
  },
  {
   "cell_type": "code",
   "execution_count": null,
   "metadata": {},
   "outputs": [],
   "source": [
    "from sklearn.ensemble import RandomForestRegressor \n",
    "\n",
    "model = RandomForestRegressor()\n",
    "mses,models = kfold_validation(Xtrain,ytrain,model)\n",
    "yhat=models[np.argmin(mses)].predict(Xtest)\n",
    "np.mean(np.square(yhat-ytest))\n"
   ]
  },
  {
   "cell_type": "markdown",
   "metadata": {},
   "source": [
    "# Data Visualisation"
   ]
  },
  {
   "cell_type": "code",
   "execution_count": null,
   "metadata": {},
   "outputs": [],
   "source": []
  }
 ],
 "metadata": {
  "kernelspec": {
   "name": "python388jvsc74a57bd0298d0c028ebfbad302948d29e6e2a6b25739bae27aa80b20798b13185bce1864",
   "display_name": "Python 3.8.8 64-bit ('datascience': conda)"
  },
  "language_info": {
   "codemirror_mode": {
    "name": "ipython",
    "version": 3
   },
   "file_extension": ".py",
   "mimetype": "text/x-python",
   "name": "python",
   "nbconvert_exporter": "python",
   "pygments_lexer": "ipython3",
   "version": "3.8.8"
  },
  "metadata": {
   "interpreter": {
    "hash": "298d0c028ebfbad302948d29e6e2a6b25739bae27aa80b20798b13185bce1864"
   }
  }
 },
 "nbformat": 4,
 "nbformat_minor": 4
}